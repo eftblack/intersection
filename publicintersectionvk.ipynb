{
 "cells": [
  {
   "cell_type": "code",
   "execution_count": 4,
   "metadata": {},
   "outputs": [],
   "source": [
    "import vk"
   ]
  },
  {
   "cell_type": "code",
   "execution_count": 5,
   "metadata": {},
   "outputs": [],
   "source": [
    "def get_members(groupid):\n",
    "    pass"
   ]
  },
  {
   "cell_type": "code",
   "execution_count": 6,
   "metadata": {},
   "outputs": [],
   "source": [
    "def save_data(data, fliename=\"mems.txt\"):\n",
    "    pass"
   ]
  },
  {
   "cell_type": "code",
   "execution_count": 7,
   "metadata": {},
   "outputs": [],
   "source": [
    "def enter_data(filename=\"mems.txt\"):\n",
    "    pass"
   ]
  },
  {
   "cell_type": "code",
   "execution_count": 8,
   "metadata": {},
   "outputs": [],
   "source": [
    "def get_intersection(group1,group2):\n",
    "    pass"
   ]
  },
  {
   "cell_type": "code",
   "execution_count": 9,
   "metadata": {},
   "outputs": [],
   "source": [
    "def union_members(group1, group2):\n",
    "    pass"
   ]
  },
  {
   "cell_type": "code",
   "execution_count": 12,
   "metadata": {},
   "outputs": [],
   "source": [
    "if __name__ == \"__main__\":\n",
    "    token = \"9a7893719a7893719a7893710f9a13eac799a789a789371c76517ddf9d96d7341daf8ed\"\n",
    "    session = vk.Session(access_token = token)\n",
    "    vk_api = vk.API(session)"
   ]
  },
  {
   "cell_type": "code",
   "execution_count": 13,
   "metadata": {},
   "outputs": [],
   "source": [
    "def get_members(groupid):\n",
    "    first = vk_api.groups.getMembers(group_id=groupid, v=5.92)\n",
    "    data = first[\"items\"]\n",
    "    count = first[\"count\"]\n",
    "    for i in range (1,count+1):\n",
    "        data = data + vk_api.groups.getMembers(group_id=groupid, v=5.92, offset=i*1000)[\"items\"]\n",
    "        return data"
   ]
  },
  {
   "cell_type": "code",
   "execution_count": 14,
   "metadata": {},
   "outputs": [],
   "source": [
    "def save_data(data, filename=\"mems.txt\"):\n",
    "    with open(filename,\"w\") as file:\n",
    "        for item in data:\n",
    "            file.write(\"vk.com/id\"+str(item)+\"\\n\")"
   ]
  },
  {
   "cell_type": "code",
   "execution_count": 16,
   "metadata": {},
   "outputs": [],
   "source": [
    "def enter_data(filename=\"mems.txt\"):\n",
    "    with open(filename) as file:\n",
    "        b=[]\n",
    "        for line in file:\n",
    "            b.append(line[9:len(line)-1])\n",
    "            return b"
   ]
  },
  {
   "cell_type": "code",
   "execution_count": 25,
   "metadata": {},
   "outputs": [],
   "source": [
    "def get_intersection(group1, group2):\n",
    "    group1 = set(group1)\n",
    "    group2 = set(group2)\n",
    "    intersection = group1.intersection(group2)\n",
    "    all_members = len(group1) + len(group2) - len(intersection)\n",
    "    result = len(intersection)/all_members * 100\n",
    "    print(\"Пересечение аудиторий:\", round(result,2), \"%\", sep=\"\")\n",
    "    return list(intersection)"
   ]
  },
  {
   "cell_type": "code",
   "execution_count": 26,
   "metadata": {},
   "outputs": [],
   "source": [
    "def union_members(group1, group2):\n",
    "    group1 = set(group1)\n",
    "    group2 = set(group2)\n",
    "    union = group1.union(group2)\n",
    "    return list(union)"
   ]
  },
  {
   "cell_type": "code",
   "execution_count": 30,
   "metadata": {},
   "outputs": [
    {
     "name": "stdout",
     "output_type": "stream",
     "text": [
      "Пересечение аудиторий:0.86%\n"
     ]
    }
   ],
   "source": [
    "if __name__ == \"__main__\":\n",
    "    token = \"9a7893719a7893719a7893710f9a13eac799a789a789371c76517ddf9d96d7341daf8ed\"\n",
    "    session = vk.Session(access_token = token)\n",
    "    vk_api = vk.API(session)\n",
    "    mems1 = get_members(\"masktcc\")\n",
    "    mems2 = get_members(\"pesbl\")\n",
    "    get_intersection(mems1,mems2)\n",
    "    union = union_members(mems1,mems2)\n",
    "    save_data(union)"
   ]
  },
  {
   "cell_type": "code",
   "execution_count": null,
   "metadata": {},
   "outputs": [],
   "source": []
  }
 ],
 "metadata": {
  "kernelspec": {
   "display_name": "Python 3",
   "language": "python",
   "name": "python3"
  },
  "language_info": {
   "codemirror_mode": {
    "name": "ipython",
    "version": 3
   },
   "file_extension": ".py",
   "mimetype": "text/x-python",
   "name": "python",
   "nbconvert_exporter": "python",
   "pygments_lexer": "ipython3",
   "version": "3.7.1"
  }
 },
 "nbformat": 4,
 "nbformat_minor": 2
}
